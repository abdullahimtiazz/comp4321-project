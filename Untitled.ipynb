{
 "cells": [
  {
   "cell_type": "code",
   "execution_count": 2,
   "id": "43dc9363",
   "metadata": {},
   "outputs": [
    {
     "name": "stdout",
     "output_type": "stream",
     "text": [
      "Set parameter Username\n"
     ]
    },
    {
     "ename": "GurobiError",
     "evalue": "License expired 2024-09-17",
     "output_type": "error",
     "traceback": [
      "\u001b[0;31m---------------------------------------------------------------------------\u001b[0m",
      "\u001b[0;31mGurobiError\u001b[0m                               Traceback (most recent call last)",
      "Cell \u001b[0;32mIn[2], line 21\u001b[0m\n\u001b[1;32m     17\u001b[0m     sys\u001b[38;5;241m.\u001b[39mexit(\u001b[38;5;241m0\u001b[39m)\n\u001b[1;32m     19\u001b[0m \u001b[38;5;66;03m# Read and solve model\u001b[39;00m\n\u001b[0;32m---> 21\u001b[0m model \u001b[38;5;241m=\u001b[39m \u001b[43mgp\u001b[49m\u001b[38;5;241;43m.\u001b[39;49m\u001b[43mread\u001b[49m\u001b[43m(\u001b[49m\u001b[43msys\u001b[49m\u001b[38;5;241;43m.\u001b[39;49m\u001b[43margv\u001b[49m\u001b[43m[\u001b[49m\u001b[38;5;241;43m1\u001b[39;49m\u001b[43m]\u001b[49m\u001b[43m)\u001b[49m\n\u001b[1;32m     22\u001b[0m model\u001b[38;5;241m.\u001b[39moptimize()\n\u001b[1;32m     24\u001b[0m \u001b[38;5;28;01mif\u001b[39;00m model\u001b[38;5;241m.\u001b[39mStatus \u001b[38;5;241m==\u001b[39m GRB\u001b[38;5;241m.\u001b[39mINF_OR_UNBD:\n\u001b[1;32m     25\u001b[0m     \u001b[38;5;66;03m# Turn presolve off to determine whether model is infeasible\u001b[39;00m\n\u001b[1;32m     26\u001b[0m     \u001b[38;5;66;03m# or unbounded\u001b[39;00m\n",
      "File \u001b[0;32msrc/gurobipy/gurobi.pxi:3647\u001b[0m, in \u001b[0;36mgurobipy.read\u001b[0;34m()\u001b[0m\n",
      "File \u001b[0;32msrc/gurobipy/gurobi.pxi:80\u001b[0m, in \u001b[0;36mgurobipy.gurobi.read\u001b[0;34m()\u001b[0m\n",
      "File \u001b[0;32msrc/gurobipy/gurobi.pxi:28\u001b[0m, in \u001b[0;36mgurobipy.gurobi._getdefaultenv\u001b[0;34m()\u001b[0m\n",
      "File \u001b[0;32msrc/gurobipy/env.pxi:62\u001b[0m, in \u001b[0;36mgurobipy.Env.__init__\u001b[0;34m()\u001b[0m\n",
      "\u001b[0;31mGurobiError\u001b[0m: License expired 2024-09-17"
     ]
    }
   ],
   "source": [
    "#!/usr/bin/env python3.11\n",
    "\n",
    "# Copyright 2025, Gurobi Optimization, LLC\n",
    "\n",
    "# This example reads an LP model from a file and solves it.\n",
    "# If the model is infeasible or unbounded, the example turns off\n",
    "# presolve and solves the model again. If the model is infeasible,\n",
    "# the example computes an Irreducible Inconsistent Subsystem (IIS),\n",
    "# and writes it to a file\n",
    "\n",
    "import sys\n",
    "import gurobipy as gp\n",
    "from gurobipy import GRB\n",
    "\n",
    "if len(sys.argv) < 2:\n",
    "    print(\"Usage: lp.py filename\")\n",
    "    sys.exit(0)\n",
    "\n",
    "# Read and solve model\n",
    "\n",
    "model = gp.read(sys.argv[1])\n",
    "model.optimize()\n",
    "\n",
    "if model.Status == GRB.INF_OR_UNBD:\n",
    "    # Turn presolve off to determine whether model is infeasible\n",
    "    # or unbounded\n",
    "    model.setParam(GRB.Param.Presolve, 0)\n",
    "    model.optimize()\n",
    "\n",
    "if model.Status == GRB.OPTIMAL:\n",
    "    print(f\"Optimal objective: {model.ObjVal:g}\")\n",
    "    model.write(\"model.sol\")\n",
    "    sys.exit(0)\n",
    "elif model.Status != GRB.INFEASIBLE:\n",
    "    print(f\"Optimization was stopped with status {model.Status}\")\n",
    "    sys.exit(0)\n",
    "\n",
    "\n",
    "# Model is infeasible - compute an Irreducible Inconsistent Subsystem (IIS)\n",
    "\n",
    "print(\"\")\n",
    "print(\"Model is infeasible\")\n",
    "model.computeIIS()\n",
    "model.write(\"model.ilp\")\n",
    "print(\"IIS written to file 'model.ilp'\")"
   ]
  },
  {
   "cell_type": "code",
   "execution_count": null,
   "id": "5f5e69fb",
   "metadata": {},
   "outputs": [],
   "source": []
  }
 ],
 "metadata": {
  "kernelspec": {
   "display_name": "Python 3 (ipykernel)",
   "language": "python",
   "name": "python3"
  },
  "language_info": {
   "codemirror_mode": {
    "name": "ipython",
    "version": 3
   },
   "file_extension": ".py",
   "mimetype": "text/x-python",
   "name": "python",
   "nbconvert_exporter": "python",
   "pygments_lexer": "ipython3",
   "version": "3.9.12"
  }
 },
 "nbformat": 4,
 "nbformat_minor": 5
}
